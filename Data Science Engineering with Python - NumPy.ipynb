{
 "cells": [
  {
   "cell_type": "markdown",
   "metadata": {},
   "source": [
    "# 1. Create Numpy Arrays: total 26 points"
   ]
  },
  {
   "cell_type": "markdown",
   "metadata": {},
   "source": [
    "1). Convert a Python list x=[[1,2,3],[4,5,6]] into a Numpy array.                                          1 point"
   ]
  },
  {
   "cell_type": "code",
   "execution_count": 1,
   "metadata": {},
   "outputs": [],
   "source": [
    "x = [[1,2,3],[4,5,6]]"
   ]
  },
  {
   "cell_type": "code",
   "execution_count": 2,
   "metadata": {},
   "outputs": [],
   "source": [
    "import numpy as np\n",
    "from sys import getsizeof"
   ]
  },
  {
   "cell_type": "code",
   "execution_count": 3,
   "metadata": {},
   "outputs": [
    {
     "data": {
      "text/plain": [
       "array([[1, 2, 3],\n",
       "       [4, 5, 6]])"
      ]
     },
     "execution_count": 3,
     "metadata": {},
     "output_type": "execute_result"
    }
   ],
   "source": [
    "numpy_arr = np.array(x)\n",
    "numpy_arr"
   ]
  },
  {
   "cell_type": "markdown",
   "metadata": {},
   "source": [
    "2). Use one line to create a 3x2 2D array with shape of (3,2), filled with 1-6.                    1 point"
   ]
  },
  {
   "cell_type": "code",
   "execution_count": 4,
   "metadata": {},
   "outputs": [
    {
     "data": {
      "text/plain": [
       "array([[1, 2],\n",
       "       [3, 4],\n",
       "       [5, 6]])"
      ]
     },
     "execution_count": 4,
     "metadata": {},
     "output_type": "execute_result"
    }
   ],
   "source": [
    "a = np.arange(1,7).reshape(3,2)\n",
    "a"
   ]
  },
  {
   "cell_type": "markdown",
   "metadata": {},
   "source": [
    "3). Create an array of 2, 4, 6, 8, ..., 98, 100; and find the mean value.                                 1 point"
   ]
  },
  {
   "cell_type": "code",
   "execution_count": 5,
   "metadata": {},
   "outputs": [
    {
     "name": "stdout",
     "output_type": "stream",
     "text": [
      "[  2   4   6   8  10  12  14  16  18  20  22  24  26  28  30  32  34  36\n",
      "  38  40  42  44  46  48  50  52  54  56  58  60  62  64  66  68  70  72\n",
      "  74  76  78  80  82  84  86  88  90  92  94  96  98 100]\n",
      "The mean of the numpy array b is: 51.0\n"
     ]
    }
   ],
   "source": [
    "b = np.arange(2,101,2)\n",
    "print(b)\n",
    "mean = np.mean(b)\n",
    "print(\"The mean of the numpy array b is: {}\".format(mean))"
   ]
  },
  {
   "cell_type": "markdown",
   "metadata": {},
   "source": [
    "4). Create an 3x3x3 array filled with arbitrary values; and find the minimum and maximum values.  1 point"
   ]
  },
  {
   "cell_type": "code",
   "execution_count": 6,
   "metadata": {},
   "outputs": [
    {
     "name": "stdout",
     "output_type": "stream",
     "text": [
      "The 3x3x3 array with arbitrary values is:\n",
      "[[[0.01186278 0.5705031  0.07000282]\n",
      "  [0.83564771 0.68244941 0.9838852 ]\n",
      "  [0.93732603 0.7845685  0.70917074]]\n",
      "\n",
      " [[0.94236603 0.57650826 0.09539101]\n",
      "  [0.42238834 0.58822348 0.80616548]\n",
      "  [0.02273496 0.61034459 0.21794224]]\n",
      "\n",
      " [[0.47276658 0.31631917 0.63784974]\n",
      "  [0.14949229 0.96421597 0.1485345 ]\n",
      "  [0.00504041 0.65660042 0.54496399]]]\n",
      "Minimum of numpy array c is: 0.00504041220717899\n",
      "Maximum of numpy array c is: 0.9838852006351239\n"
     ]
    }
   ],
   "source": [
    "c = np.random.random((3,3,3))\n",
    "print(\"The 3x3x3 array with arbitrary values is:\")\n",
    "print(c)\n",
    "minimum = c.min()\n",
    "maximum = c.max()\n",
    "print('Minimum of numpy array c is: {}'.format(minimum))\n",
    "print('Maximum of numpy array c is: {}'.format(maximum))\n"
   ]
  },
  {
   "cell_type": "markdown",
   "metadata": {},
   "source": [
    "5). Create a random array of size 10 and sort it.                                                                     1 point"
   ]
  },
  {
   "cell_type": "code",
   "execution_count": 7,
   "metadata": {},
   "outputs": [
    {
     "name": "stdout",
     "output_type": "stream",
     "text": [
      "The random array of size of 10 is:\n",
      "[0.26811391 0.72503551 0.97132395 0.4384801  0.47254198 0.88781322\n",
      " 0.27697511 0.38312017 0.35158785 0.8347691 ]\n",
      "\n",
      "The sorted array is:\n",
      "[0.26811391 0.27697511 0.35158785 0.38312017 0.4384801  0.47254198\n",
      " 0.72503551 0.8347691  0.88781322 0.97132395]\n"
     ]
    }
   ],
   "source": [
    "d = np.random.random(10)\n",
    "print(\"The random array of size of 10 is:\")\n",
    "print(d)\n",
    "d.sort()\n",
    "print(\"\")\n",
    "print(\"The sorted array is:\")\n",
    "print(d)"
   ]
  },
  {
   "cell_type": "markdown",
   "metadata": {},
   "source": [
    "6). Create a numpy array of length 10, starting from 5 and has a step of 3 between consecutive numbers.             1 point"
   ]
  },
  {
   "cell_type": "code",
   "execution_count": 8,
   "metadata": {},
   "outputs": [
    {
     "data": {
      "text/plain": [
       "array([ 5,  8, 11, 14, 17, 20, 23, 26, 29, 32])"
      ]
     },
     "execution_count": 8,
     "metadata": {},
     "output_type": "execute_result"
    }
   ],
   "source": [
    "e = np.arange(5,35,3)\n",
    "e"
   ]
  },
  {
   "cell_type": "markdown",
   "metadata": {},
   "source": [
    "7). Create an arbitrary array of shape (10,10); and find the memory size of this array.       1 points"
   ]
  },
  {
   "cell_type": "code",
   "execution_count": 9,
   "metadata": {},
   "outputs": [
    {
     "name": "stdout",
     "output_type": "stream",
     "text": [
      "The random array of size 100 and shape of 10x10 is:\n",
      "[[0.2845975  0.21583136 0.55538478 0.24385613 0.45703289 0.56005133\n",
      "  0.00617091 0.00983304 0.1447524  0.42904359]\n",
      " [0.66066539 0.88896617 0.85819769 0.72168347 0.41485717 0.32004583\n",
      "  0.46426518 0.73930865 0.86477692 0.39145625]\n",
      " [0.91269632 0.80816455 0.84476657 0.28807412 0.57800304 0.27378299\n",
      "  0.84133072 0.13610557 0.54324519 0.35175219]\n",
      " [0.10622245 0.54988598 0.31289136 0.57197676 0.55147562 0.29868864\n",
      "  0.5013601  0.21378541 0.44473534 0.13679478]\n",
      " [0.62952904 0.85717661 0.26781841 0.96268808 0.82463499 0.32578492\n",
      "  0.45182008 0.53370488 0.36079627 0.83272113]\n",
      " [0.9212638  0.85262293 0.71399179 0.45961655 0.25465444 0.02095375\n",
      "  0.59535513 0.0467704  0.671872   0.76726298]\n",
      " [0.70431913 0.62101152 0.45283748 0.47293177 0.82473581 0.51203568\n",
      "  0.01479182 0.05494898 0.90540507 0.97250916]\n",
      " [0.42410559 0.76646649 0.21787957 0.71379765 0.34966924 0.42909478\n",
      "  0.49493473 0.48353579 0.80224417 0.29945721]\n",
      " [0.59941292 0.86580279 0.30737963 0.77125906 0.3317016  0.62700998\n",
      "  0.89629886 0.5797016  0.57837866 0.63676662]\n",
      " [0.09400069 0.97633588 0.502199   0.79244731 0.1301927  0.30106913\n",
      "  0.42607802 0.64724682 0.57053504 0.13218461]]\n",
      "Memory size of the array f bytes 800\n",
      " \n",
      "The memory size of the numpy array f is: 800 bytes\n",
      "The size of the array f as whole object is: 920 bytes\n"
     ]
    }
   ],
   "source": [
    "f = np.random.random((10,10))\n",
    "print(\"The random array of size 100 and shape of 10x10 is:\")\n",
    "print(f)\n",
    "print(\"Memory size of the array f bytes\", f.nbytes)\n",
    "size_arr = f.size\n",
    "one_ele_size = f.itemsize\n",
    "print(\" \")\n",
    "print(\"The memory size of the numpy array f is: {} bytes\".format(size_arr * one_ele_size))\n",
    "print(\"The size of the array f as whole object is: {} bytes\".format(getsizeof(f)))"
   ]
  },
  {
   "cell_type": "markdown",
   "metadata": {},
   "source": [
    "8). Create a null array of size 10 but the fifth value which is 1.                                             1 points"
   ]
  },
  {
   "cell_type": "code",
   "execution_count": 10,
   "metadata": {},
   "outputs": [
    {
     "data": {
      "text/plain": [
       "array([0., 0., 0., 0., 1., 0., 0., 0., 0., 0.])"
      ]
     },
     "execution_count": 10,
     "metadata": {},
     "output_type": "execute_result"
    }
   ],
   "source": [
    "g = np.zeros(10)\n",
    "g[4] = 1\n",
    "g\n"
   ]
  },
  {
   "cell_type": "markdown",
   "metadata": {},
   "source": [
    "9). Create an array with values ranging from 10 to 49; and reverse it then (first element becomes last).                   1 point"
   ]
  },
  {
   "cell_type": "code",
   "execution_count": 11,
   "metadata": {},
   "outputs": [
    {
     "name": "stdout",
     "output_type": "stream",
     "text": [
      "The array with the values ranging from 10 to 49 are:\n",
      "[10 11 12 13 14 15 16 17 18 19 20 21 22 23 24 25 26 27 28 29 30 31 32 33\n",
      " 34 35 36 37 38 39 40 41 42 43 44 45 46 47 48]\n",
      "\n",
      "The reverse of the array is:\n",
      "[48 47 46 45 44 43 42 41 40 39 38 37 36 35 34 33 32 31 30 29 28 27 26 25\n",
      " 24 23 22 21 20 19 18 17 16 15 14 13 12 11 10]\n"
     ]
    }
   ],
   "source": [
    "h = np.arange(10,49)\n",
    "print(\"The array with the values ranging from 10 to 49 are:\")\n",
    "print(h)\n",
    "print(\"\")\n",
    "rev = np.flip(h)\n",
    "print(\"The reverse of the array is:\")\n",
    "print(rev)"
   ]
  },
  {
   "cell_type": "markdown",
   "metadata": {},
   "source": [
    "10). Create an array of shape (3, 2) with random values from a uniform distribution over [0, 1) and confirm you can get the same value when you run it next time.                    1 point"
   ]
  },
  {
   "cell_type": "code",
   "execution_count": 12,
   "metadata": {},
   "outputs": [
    {
     "data": {
      "text/plain": [
       "array([[0.5488135 , 0.71518937],\n",
       "       [0.60276338, 0.54488318],\n",
       "       [0.4236548 , 0.64589411]])"
      ]
     },
     "execution_count": 12,
     "metadata": {},
     "output_type": "execute_result"
    }
   ],
   "source": [
    "np.random.seed(0)\n",
    "i = np.random.random(6).reshape(3,2)\n",
    "# random.random returns an array with the uniform distribution values ranging from including 0 but excluding 1.\n",
    "i"
   ]
  },
  {
   "cell_type": "markdown",
   "metadata": {},
   "source": [
    "11). Create a 5x5 matrix with row values ranging from 0 to 4:                                  2 points"
   ]
  },
  {
   "cell_type": "code",
   "execution_count": 13,
   "metadata": {},
   "outputs": [
    {
     "data": {
      "text/plain": [
       "array([[0, 1, 2, 3, 4],\n",
       "       [0, 1, 2, 3, 4],\n",
       "       [0, 1, 2, 3, 4],\n",
       "       [0, 1, 2, 3, 4],\n",
       "       [0, 1, 2, 3, 4]])"
      ]
     },
     "execution_count": 13,
     "metadata": {},
     "output_type": "execute_result"
    }
   ],
   "source": [
    "j = np.zeros((5,5), dtype = int)\n",
    "j = j + np.arange(5)\n",
    "j"
   ]
  },
  {
   "cell_type": "markdown",
   "metadata": {},
   "source": [
    "12). Add a border (filled with 0's) around an existing array:                                     4 points"
   ]
  },
  {
   "cell_type": "code",
   "execution_count": 14,
   "metadata": {},
   "outputs": [
    {
     "data": {
      "text/plain": [
       "array([[0., 0., 0., 0., 0., 0., 0.],\n",
       "       [0., 1., 1., 1., 1., 1., 0.],\n",
       "       [0., 1., 1., 1., 1., 1., 0.],\n",
       "       [0., 1., 1., 1., 1., 1., 0.],\n",
       "       [0., 1., 1., 1., 1., 1., 0.],\n",
       "       [0., 1., 1., 1., 1., 1., 0.],\n",
       "       [0., 0., 0., 0., 0., 0., 0.]])"
      ]
     },
     "execution_count": 14,
     "metadata": {},
     "output_type": "execute_result"
    }
   ],
   "source": [
    "k = np.ones((5,5))\n",
    "k = np.pad(k, pad_width = 1, mode = 'constant', constant_values = 0)\n",
    "k"
   ]
  },
  {
   "cell_type": "markdown",
   "metadata": {},
   "source": [
    "13). Create a 5x5 2D array with values 1,2,3,4,5 on the diagonal.                  4 points\n",
    "\n",
    "[[1 0 0 0 0]\n",
    " [0 2 0 0 0]\n",
    " [0 0 3 0 0]\n",
    " [0 0 0 4 0]\n",
    " [0 0 0 0 5]]\n",
    " \n",
    " Then, make 1,2,3,4 move below the diagonal:\n",
    " \n",
    " [[0 0 0 0 0]\n",
    " [1 0 0 0 0]\n",
    " [0 2 0 0 0]\n",
    " [0 0 3 0 0]\n",
    " [0 0 0 4 0]]"
   ]
  },
  {
   "cell_type": "code",
   "execution_count": 15,
   "metadata": {},
   "outputs": [
    {
     "name": "stdout",
     "output_type": "stream",
     "text": [
      "[[1 0 0 0 0]\n",
      " [0 2 0 0 0]\n",
      " [0 0 3 0 0]\n",
      " [0 0 0 4 0]\n",
      " [0 0 0 0 5]]\n",
      "\n",
      "[[0 0 0 0 0]\n",
      " [1 0 0 0 0]\n",
      " [0 2 0 0 0]\n",
      " [0 0 3 0 0]\n",
      " [0 0 0 4 0]]\n"
     ]
    }
   ],
   "source": [
    "l = np.diag([1,2,3,4,5])\n",
    "print(l)\n",
    "\n",
    "print(\"\")\n",
    "\n",
    "l = np.diag(1+np.arange(4), k = -1)\n",
    "print(l)\n"
   ]
  },
  {
   "cell_type": "markdown",
   "metadata": {},
   "source": [
    "14). Create a 2d 10x10 array with 1 on the border and 0 inside.                  4 points\n",
    "\n",
    "[[1. 1. 1. 1. 1. 1. 1. 1. 1. 1.]\n",
    " [1. 0. 0. 0. 0. 0. 0. 0. 0. 1.]\n",
    " [1. 0. 0. 0. 0. 0. 0. 0. 0. 1.]\n",
    " [1. 0. 0. 0. 0. 0. 0. 0. 0. 1.]\n",
    " [1. 0. 0. 0. 0. 0. 0. 0. 0. 1.]\n",
    " [1. 0. 0. 0. 0. 0. 0. 0. 0. 1.]\n",
    " [1. 0. 0. 0. 0. 0. 0. 0. 0. 1.]\n",
    " [1. 0. 0. 0. 0. 0. 0. 0. 0. 1.]\n",
    " [1. 0. 0. 0. 0. 0. 0. 0. 0. 1.]\n",
    " [1. 1. 1. 1. 1. 1. 1. 1. 1. 1.]]"
   ]
  },
  {
   "cell_type": "code",
   "execution_count": 16,
   "metadata": {},
   "outputs": [
    {
     "data": {
      "text/plain": [
       "array([[1., 1., 1., 1., 1., 1., 1., 1., 1., 1., 1.],\n",
       "       [1., 0., 0., 0., 0., 0., 0., 0., 0., 0., 1.],\n",
       "       [1., 0., 0., 0., 0., 0., 0., 0., 0., 0., 1.],\n",
       "       [1., 0., 0., 0., 0., 0., 0., 0., 0., 0., 1.],\n",
       "       [1., 0., 0., 0., 0., 0., 0., 0., 0., 0., 1.],\n",
       "       [1., 0., 0., 0., 0., 0., 0., 0., 0., 0., 1.],\n",
       "       [1., 0., 0., 0., 0., 0., 0., 0., 0., 0., 1.],\n",
       "       [1., 0., 0., 0., 0., 0., 0., 0., 0., 0., 1.],\n",
       "       [1., 0., 0., 0., 0., 0., 0., 0., 0., 0., 1.],\n",
       "       [1., 0., 0., 0., 0., 0., 0., 0., 0., 0., 1.],\n",
       "       [1., 1., 1., 1., 1., 1., 1., 1., 1., 1., 1.]])"
      ]
     },
     "execution_count": 16,
     "metadata": {},
     "output_type": "execute_result"
    }
   ],
   "source": [
    "m = np.zeros((9,9))\n",
    "m = np.pad(m, pad_width = 1, mode = 'constant', constant_values = 1)\n",
    "m"
   ]
  },
  {
   "cell_type": "markdown",
   "metadata": {},
   "source": [
    "15). Extract the integer part of a random array of positive numbers using 2 different methods, and the result should be an integer array.                2 points"
   ]
  },
  {
   "cell_type": "code",
   "execution_count": 17,
   "metadata": {},
   "outputs": [
    {
     "name": "stdout",
     "output_type": "stream",
     "text": [
      "[4.37587211 8.91773001 9.63662761 3.83441519 7.91725038 5.2889492\n",
      " 5.68044561 9.25596638 0.71036058 0.871293  ]\n",
      "[4. 8. 9. 3. 7. 5. 5. 9. 0. 0.]\n",
      "[4. 8. 9. 3. 7. 5. 5. 9. 0. 0.]\n",
      "[4. 8. 9. 3. 7. 5. 5. 9. 0. 0.]\n"
     ]
    },
    {
     "data": {
      "text/plain": [
       "array([4, 8, 9, 3, 7, 5, 5, 9, 0, 0])"
      ]
     },
     "execution_count": 17,
     "metadata": {},
     "output_type": "execute_result"
    }
   ],
   "source": [
    "n = np.random.uniform(0,10,10)\n",
    "print(n)\n",
    "print(n-n%1)\n",
    "print(np.floor(n))\n",
    "print(np.trunc(n))\n",
    "a = np.array((np.trunc(n)), dtype =int)\n",
    "a\n",
    "# make integer array"
   ]
  },
  {
   "cell_type": "markdown",
   "metadata": {},
   "source": [
    "# 2. Operations on Numpy Arrays: total 38 points"
   ]
  },
  {
   "cell_type": "markdown",
   "metadata": {},
   "source": [
    "1). Find the index of 5th repetition of number 1 in the given array x.  x: [1, 2, 1, 1, 3, 4, 3, 1, 1, 2, 1, 1, 2]        2 points"
   ]
  },
  {
   "cell_type": "code",
   "execution_count": 19,
   "metadata": {},
   "outputs": [
    {
     "name": "stdout",
     "output_type": "stream",
     "text": [
      "The index value of 5th repetition of 1 is: 8\n"
     ]
    }
   ],
   "source": [
    "x = [1, 2, 1, 1, 3, 4, 3, 1, 1, 2, 1, 1, 2]\n",
    "# assuming that  first occurence of 1 is not the repetition. Therefore the 6th occurence of 1 is being considered as the 5th repetition. \n",
    "ind = 0\n",
    "count = 0\n",
    "while count <= 5:\n",
    "    if x[ind] == 1:\n",
    "        count += 1\n",
    "        if count == 5:\n",
    "            break\n",
    "    else:\n",
    "        pass\n",
    "    ind += 1\n",
    "print('The index value of 5th repetition of 1 is: {}'.format(ind))\n",
    "\n",
    "\n",
    "    "
   ]
  },
  {
   "cell_type": "markdown",
   "metadata": {},
   "source": [
    "2). Use arange to get an array [1, 2, 3, ..., 9]. Split x into 3 arrays, each of which has 4, 2, and 3 elements in the original order.                                           2 points"
   ]
  },
  {
   "cell_type": "code",
   "execution_count": 20,
   "metadata": {},
   "outputs": [
    {
     "name": "stdout",
     "output_type": "stream",
     "text": [
      "The array with the range of values from 1 to 9 is:  [1 2 3 4 5 6 7 8 9]\n",
      "\n",
      "[array([1, 2, 3, 4]), array([5, 6]), array([7, 8, 9])]\n"
     ]
    }
   ],
   "source": [
    "o = np.arange(1,10)\n",
    "print(\"The array with the range of values from 1 to 9 is: \",o)\n",
    "print(\"\")\n",
    "split_arr = np.split(o,[4,6])\n",
    "print(split_arr)"
   ]
  },
  {
   "cell_type": "markdown",
   "metadata": {},
   "source": [
    "3). Use arange to generate the following 2D array:  [[ 0., 1., 2., 3.],\n",
    " [ 4., 5., 6., 7.],\n",
    " [ 8., 9., 10., 11.],\n",
    " [ 12., 13., 14., 15.]]             2 points"
   ]
  },
  {
   "cell_type": "code",
   "execution_count": 21,
   "metadata": {},
   "outputs": [
    {
     "data": {
      "text/plain": [
       "array([[ 0,  1,  2,  3],\n",
       "       [ 4,  5,  6,  7],\n",
       "       [ 8,  9, 10, 11],\n",
       "       [12, 13, 14, 15]])"
      ]
     },
     "execution_count": 21,
     "metadata": {},
     "output_type": "execute_result"
    }
   ],
   "source": [
    "p = np.arange(16).reshape(4,4)\n",
    "p"
   ]
  },
  {
   "cell_type": "markdown",
   "metadata": {},
   "source": [
    "Use np.split to split the array into left and right halves."
   ]
  },
  {
   "cell_type": "code",
   "execution_count": 22,
   "metadata": {},
   "outputs": [
    {
     "data": {
      "text/plain": [
       "[array([[ 0,  1],\n",
       "        [ 4,  5],\n",
       "        [ 8,  9],\n",
       "        [12, 13]]), array([[ 2,  3],\n",
       "        [ 6,  7],\n",
       "        [10, 11],\n",
       "        [14, 15]])]"
      ]
     },
     "execution_count": 22,
     "metadata": {},
     "output_type": "execute_result"
    }
   ],
   "source": [
    "q = np.hsplit(p,2)\n",
    "q"
   ]
  },
  {
   "cell_type": "markdown",
   "metadata": {},
   "source": [
    "4). Given an 2D array:       [[5,10,15],\n",
    " [20,25,30],\n",
    " [35,40,45]]                                          2 points"
   ]
  },
  {
   "cell_type": "code",
   "execution_count": 23,
   "metadata": {},
   "outputs": [
    {
     "data": {
      "text/plain": [
       "array([[ 5, 10, 15],\n",
       "       [20, 25, 30],\n",
       "       [35, 40, 45]])"
      ]
     },
     "execution_count": 23,
     "metadata": {},
     "output_type": "execute_result"
    }
   ],
   "source": [
    "x = np.array([5,10,15,20,25,30,35,40,45]).reshape(3,3)\n",
    "x\n",
    "\n"
   ]
  },
  {
   "cell_type": "markdown",
   "metadata": {},
   "source": [
    "(1) Slicing to get the sub-array [[10,15], [25,30]]"
   ]
  },
  {
   "cell_type": "code",
   "execution_count": 24,
   "metadata": {},
   "outputs": [
    {
     "data": {
      "text/plain": [
       "array([[10, 15],\n",
       "       [25, 30]])"
      ]
     },
     "execution_count": 24,
     "metadata": {},
     "output_type": "execute_result"
    }
   ],
   "source": [
    "x[0:2,1:]"
   ]
  },
  {
   "cell_type": "markdown",
   "metadata": {},
   "source": [
    "(2) Getting individual element value \"20\""
   ]
  },
  {
   "cell_type": "code",
   "execution_count": 25,
   "metadata": {},
   "outputs": [
    {
     "name": "stdout",
     "output_type": "stream",
     "text": [
      "(array([1], dtype=int64), array([0], dtype=int64))\n",
      "[20]\n"
     ]
    },
    {
     "data": {
      "text/plain": [
       "20"
      ]
     },
     "execution_count": 25,
     "metadata": {},
     "output_type": "execute_result"
    }
   ],
   "source": [
    "y = np.where(x == 20)\n",
    "print(y)\n",
    "print(x[y])\n",
    "\n",
    "# or \n",
    "x[1,0]"
   ]
  },
  {
   "cell_type": "markdown",
   "metadata": {},
   "source": [
    "5). Let x be an array:                        [[ 1 2 3],\n",
    " [ 4 5 6]] and y be an array [[ 7 8 9],\n",
    " [10 11 12]]                           2 points"
   ]
  },
  {
   "cell_type": "markdown",
   "metadata": {},
   "source": [
    "Concatenate x and y so that a new array looks like [[1, 2, 3, 7, 8, 9],\n",
    " [4, 5, 6, 10, 11, 12]]"
   ]
  },
  {
   "cell_type": "code",
   "execution_count": 26,
   "metadata": {},
   "outputs": [
    {
     "name": "stdout",
     "output_type": "stream",
     "text": [
      "The concatenated array x & y is:\n"
     ]
    },
    {
     "data": {
      "text/plain": [
       "array([[ 1,  2,  3,  7,  8,  9],\n",
       "       [ 4,  5,  6, 10, 11, 12]])"
      ]
     },
     "execution_count": 26,
     "metadata": {},
     "output_type": "execute_result"
    }
   ],
   "source": [
    "x = np.array([1,2,3,4,5,6]).reshape(2,3)\n",
    "y = np.array([7,8,9,10,11,12]).reshape(2,3)\n",
    "print(\"The concatenated array x & y is:\")\n",
    "np.concatenate([x,y],axis = 1)"
   ]
  },
  {
   "cell_type": "markdown",
   "metadata": {},
   "source": [
    "6). Compute the min/max (min is divided by max) on each row for a given 2d array, in which integer values range from 1 to 10 [1,10) and shape is (5,3).             2 points\n",
    "\n",
    "Here requires a random seed to keep the same value from the random generator."
   ]
  },
  {
   "cell_type": "code",
   "execution_count": 27,
   "metadata": {},
   "outputs": [
    {
     "name": "stdout",
     "output_type": "stream",
     "text": [
      "The random reproducible array in the range of 10 and shape of 5 rows and 3 columns is as forllows : [[6 1 4]\n",
      " [4 8 4]\n",
      " [6 3 5]\n",
      " [8 7 9]\n",
      " [9 2 7]]\n",
      "The maximum values in each row of the array are: [[6]\n",
      " [8]\n",
      " [6]\n",
      " [9]\n",
      " [9]]\n",
      "The minimum values in each row of the array are: [[1]\n",
      " [4]\n",
      " [3]\n",
      " [7]\n",
      " [2]]\n",
      "The min/max ratio of the values in each row of the array are: [[0.16666667]\n",
      " [0.5       ]\n",
      " [0.5       ]\n",
      " [0.77777778]\n",
      " [0.22222222]]\n"
     ]
    }
   ],
   "source": [
    "np.random.seed(0) # using seed for reproducing the same numbers when using random.randint method for creation of array\n",
    "x = np.random.randint(1,10,size = (5,3))\n",
    "print(\"The random reproducible array in the range of 10 and shape of 5 rows and 3 columns is as forllows : {}\".format(x))\n",
    "max_element = np.amax(x,axis = 1).reshape(5,1) # max values of each row\n",
    "print(\"The maximum values in each row of the array are: {}\".format(max_element))\n",
    "\n",
    "min_element = np.amin(x,axis = 1).reshape(5,1) # min values of each row\n",
    "print(\"The minimum values in each row of the array are: {}\".format(min_element))\n",
    "\n",
    "ratio = min_element/max_element\n",
    "print(\"The min/max ratio of the values in each row of the array are: {}\".format(ratio))"
   ]
  },
  {
   "cell_type": "markdown",
   "metadata": {},
   "source": [
    "7). Normalize a 5x5 random matrix:                          2 points"
   ]
  },
  {
   "cell_type": "markdown",
   "metadata": {},
   "source": [
    "Tips: a normalization operates like: (the array - the mean)/the standard deviation"
   ]
  },
  {
   "cell_type": "code",
   "execution_count": 28,
   "metadata": {},
   "outputs": [
    {
     "name": "stdout",
     "output_type": "stream",
     "text": [
      "The original array is: \n",
      "[[0.5488135  0.71518937 0.60276338 0.54488318 0.4236548 ]\n",
      " [0.64589411 0.43758721 0.891773   0.96366276 0.38344152]\n",
      " [0.79172504 0.52889492 0.56804456 0.92559664 0.07103606]\n",
      " [0.0871293  0.0202184  0.83261985 0.77815675 0.87001215]\n",
      " [0.97861834 0.79915856 0.46147936 0.78052918 0.11827443]]\n",
      " \n",
      "After normalization, the array is: \n",
      "[[0.55153917 0.7251367  0.60783077 0.54743825 0.42094786]\n",
      " [0.65283363 0.43548501 0.90938507 0.98439526 0.37898909]\n",
      " [0.80499445 0.530756   0.57160496 0.94467685 0.05302344]\n",
      " [0.06981522 0.         0.84766433 0.79083723 0.88667967]\n",
      " [1.         0.81275064 0.46041422 0.79331263 0.10231222]]\n"
     ]
    }
   ],
   "source": [
    "np.random.seed(0)\n",
    "x = np.random.random((5,5))\n",
    "print(\"The original array is: \")\n",
    "print(x)\n",
    "x_min = x.min()\n",
    "x_max = x.max()\n",
    "\n",
    "print(\" \")\n",
    "print(\"After normalization, the array is: \")\n",
    "print((x - x_min)/(x_max - x_min))"
   ]
  },
  {
   "cell_type": "markdown",
   "metadata": {},
   "source": [
    "8). Convert 3 arrays into a 1d array.                          2 points"
   ]
  },
  {
   "cell_type": "markdown",
   "metadata": {},
   "source": [
    "arr1: 0,1,2\n",
    "\n",
    "arr2: 3,4,5,6\n",
    "\n",
    "arr3: 7,8,9\n",
    "\n",
    "Generate the 3 arrays by numpy arange()\n",
    "\n",
    "Desired Output:\n",
    "\n",
    "([0, 1, 2, 3, 4, 5, 6, 7, 8, 9])"
   ]
  },
  {
   "cell_type": "code",
   "execution_count": 29,
   "metadata": {},
   "outputs": [
    {
     "name": "stdout",
     "output_type": "stream",
     "text": [
      "[0 1 2]\n",
      "[3 4 5 6]\n",
      "[7 8 9]\n"
     ]
    }
   ],
   "source": [
    "arr1 = np.arange(3)\n",
    "print(arr1)\n",
    "arr2 = np.arange(3,7)\n",
    "print(arr2)\n",
    "arr3 = np.arange(7,10)\n",
    "print(arr3)"
   ]
  },
  {
   "cell_type": "code",
   "execution_count": 30,
   "metadata": {},
   "outputs": [
    {
     "data": {
      "text/plain": [
       "array([0, 1, 2, 3, 4, 5, 6, 7, 8, 9])"
      ]
     },
     "execution_count": 30,
     "metadata": {},
     "output_type": "execute_result"
    }
   ],
   "source": [
    "np.concatenate([arr1,arr2,arr3])"
   ]
  },
  {
   "cell_type": "markdown",
   "metadata": {},
   "source": [
    "9). Get all items between 15 and 55 from aa, math expression: [15,55].                  2 points\n",
    "\n",
    "The aa is uniformly distributed integers in a 1D array (size=20) with given values (<100). Requires defining a seed."
   ]
  },
  {
   "cell_type": "code",
   "execution_count": 31,
   "metadata": {},
   "outputs": [
    {
     "data": {
      "text/plain": [
       "array([44, 47, 64, 67, 67,  9, 83, 21, 36, 87, 70, 88, 88, 12, 58, 65, 39,\n",
       "       87, 46, 88])"
      ]
     },
     "execution_count": 31,
     "metadata": {},
     "output_type": "execute_result"
    }
   ],
   "source": [
    "np.random.seed(0)\n",
    "aa = np.random.randint(100, size = 20)\n",
    "aa"
   ]
  },
  {
   "cell_type": "code",
   "execution_count": 32,
   "metadata": {},
   "outputs": [
    {
     "data": {
      "text/plain": [
       "array([44, 47, 21, 36, 39, 46])"
      ]
     },
     "execution_count": 32,
     "metadata": {},
     "output_type": "execute_result"
    }
   ],
   "source": [
    "result = aa[(aa >= 15) & (aa <= 55)]\n",
    "result"
   ]
  },
  {
   "cell_type": "markdown",
   "metadata": {},
   "source": [
    "10). Get the positions where elements of a and b match.                 2 points"
   ]
  },
  {
   "cell_type": "markdown",
   "metadata": {},
   "source": [
    "a = np.array([1,2,3,2,3,4,3,4,5,6])\n",
    "\n",
    "b = np.array([7,2,10,2,7,4,9,4,9,8])"
   ]
  },
  {
   "cell_type": "code",
   "execution_count": 33,
   "metadata": {},
   "outputs": [
    {
     "name": "stdout",
     "output_type": "stream",
     "text": [
      "The intersection postions between arrays a & b are : (array([1, 3, 5, 7], dtype=int64),)\n"
     ]
    }
   ],
   "source": [
    "a = np.array([1,2,3,2,3,4,3,4,5,6])\n",
    "b = np.array([7,2,10,2,7,4,9,4,9,8])\n",
    "positions = np.where(np.in1d(a,b))\n",
    "print(\"The intersection postions between arrays a & b are : {}\".format(positions))\n"
   ]
  },
  {
   "cell_type": "markdown",
   "metadata": {},
   "source": [
    "11). Use arange() to create an array from 0 to 20 ( [0,20) ); replace all odd numbers with -1.      2 points"
   ]
  },
  {
   "cell_type": "code",
   "execution_count": 34,
   "metadata": {},
   "outputs": [
    {
     "data": {
      "text/plain": [
       "array([ 0,  1,  2,  3,  4,  5,  6,  7,  8,  9, 10, 11, 12, 13, 14, 15, 16,\n",
       "       17, 18, 19])"
      ]
     },
     "execution_count": 34,
     "metadata": {},
     "output_type": "execute_result"
    }
   ],
   "source": [
    "z = np.arange(20)\n",
    "z"
   ]
  },
  {
   "cell_type": "code",
   "execution_count": 35,
   "metadata": {},
   "outputs": [
    {
     "name": "stdout",
     "output_type": "stream",
     "text": [
      "Replacing all the odd numbers with -1\n"
     ]
    },
    {
     "data": {
      "text/plain": [
       "array([ 0, -1,  2, -1,  4, -1,  6, -1,  8, -1, 10, -1, 12, -1, 14, -1, 16,\n",
       "       -1, 18, -1])"
      ]
     },
     "execution_count": 35,
     "metadata": {},
     "output_type": "execute_result"
    }
   ],
   "source": [
    "print(\"Replacing all the odd numbers with -1\")\n",
    "z[z%2==1] = -1\n",
    "z"
   ]
  },
  {
   "cell_type": "markdown",
   "metadata": {},
   "source": [
    "12). Use two addition functions of Numpy to add every element in a 1D array of size 10 and finally get one value.; and set a timer to time the two addition functions to see which one is faster.                                2 points"
   ]
  },
  {
   "cell_type": "markdown",
   "metadata": {},
   "source": [
    "Tips: you can use Jupyter magic command %timeit"
   ]
  },
  {
   "cell_type": "code",
   "execution_count": 36,
   "metadata": {},
   "outputs": [
    {
     "name": "stdout",
     "output_type": "stream",
     "text": [
      "[0 1 2 3 4 5 6 7 8 9]\n",
      "2.17 µs ± 701 ns per loop (mean ± std. dev. of 7 runs, 100000 loops each)\n",
      "45\n",
      "5.17 µs ± 969 ns per loop (mean ± std. dev. of 7 runs, 100000 loops each)\n",
      "45\n",
      "3.15 µs ± 483 ns per loop (mean ± std. dev. of 7 runs, 100000 loops each)\n",
      "45\n",
      "As per the operations using three methods the 'sum()', 'np.sum()' & 'cumsum()' methods to add the values of the array, the 'sum()' method is faster.\n"
     ]
    }
   ],
   "source": [
    "x = np.arange(10)\n",
    "print(x)\n",
    "tot_sum = sum(x)\n",
    "%timeit tot_sum = sum(x)\n",
    "print(tot_sum)\n",
    "total = np.sum(x)\n",
    "%timeit total = np.sum(x)\n",
    "print(total)\n",
    "tot_value = np.cumsum(x)[-1]\n",
    "%timeit tot_value = np.cumsum(x)[-1]\n",
    "print(tot_value)\n",
    "print(\"As per the operations using three methods the 'sum()', 'np.sum()' & 'cumsum()' methods to add the values of the array, the 'sum()' method is faster.\")"
   ]
  },
  {
   "cell_type": "markdown",
   "metadata": {},
   "source": [
    "13). Subtract the mean of each row of a matrix X. X is a random 2D 5x10 array.     2 points"
   ]
  },
  {
   "cell_type": "code",
   "execution_count": 37,
   "metadata": {},
   "outputs": [
    {
     "name": "stdout",
     "output_type": "stream",
     "text": [
      "[[44 47  0  3  3 39  9 19 21 36]\n",
      " [23  6 24 24 12  1 38 39 23 46]\n",
      " [24 17 37 25 13  8  9 20 16  5]\n",
      " [15 47  0 18 35 24 49 29 19 19]\n",
      " [14 39 32  1  9 32 31 10 23 35]]\n",
      "[[22.1]\n",
      " [23.6]\n",
      " [17.4]\n",
      " [25.5]\n",
      " [22.6]]\n"
     ]
    },
    {
     "data": {
      "text/plain": [
       "array([[ 21.9,  24.9, -22.1, -19.1, -19.1,  16.9, -13.1,  -3.1,  -1.1,\n",
       "         13.9],\n",
       "       [ -0.6, -17.6,   0.4,   0.4, -11.6, -22.6,  14.4,  15.4,  -0.6,\n",
       "         22.4],\n",
       "       [  6.6,  -0.4,  19.6,   7.6,  -4.4,  -9.4,  -8.4,   2.6,  -1.4,\n",
       "        -12.4],\n",
       "       [-10.5,  21.5, -25.5,  -7.5,   9.5,  -1.5,  23.5,   3.5,  -6.5,\n",
       "         -6.5],\n",
       "       [ -8.6,  16.4,   9.4, -21.6, -13.6,   9.4,   8.4, -12.6,   0.4,\n",
       "         12.4]])"
      ]
     },
     "execution_count": 37,
     "metadata": {},
     "output_type": "execute_result"
    }
   ],
   "source": [
    "np.random.seed(0)\n",
    "X = np.random.randint(50,size = (5,10))\n",
    "print(X)\n",
    "X_mean = X.mean(axis = 1, keepdims = True)\n",
    "print(X_mean.reshape(5,1))\n",
    "Y = X - X_mean\n",
    "Y\n"
   ]
  },
  {
   "cell_type": "markdown",
   "metadata": {},
   "source": [
    "14) Considering a four dimensions array (3,4,3,4) with the values 0-9 randomly, how to get sum over the last two axis at once?                    6 points"
   ]
  },
  {
   "cell_type": "code",
   "execution_count": 38,
   "metadata": {},
   "outputs": [
    {
     "data": {
      "text/plain": [
       "array([[[[5, 0, 3, 3],\n",
       "         [7, 9, 3, 5],\n",
       "         [2, 4, 7, 6]],\n",
       "\n",
       "        [[8, 8, 1, 6],\n",
       "         [7, 7, 8, 1],\n",
       "         [5, 9, 8, 9]],\n",
       "\n",
       "        [[4, 3, 0, 3],\n",
       "         [5, 0, 2, 3],\n",
       "         [8, 1, 3, 3]],\n",
       "\n",
       "        [[3, 7, 0, 1],\n",
       "         [9, 9, 0, 4],\n",
       "         [7, 3, 2, 7]]],\n",
       "\n",
       "\n",
       "       [[[2, 0, 0, 4],\n",
       "         [5, 5, 6, 8],\n",
       "         [4, 1, 4, 9]],\n",
       "\n",
       "        [[8, 1, 1, 7],\n",
       "         [9, 9, 3, 6],\n",
       "         [7, 2, 0, 3]],\n",
       "\n",
       "        [[5, 9, 4, 4],\n",
       "         [6, 4, 4, 3],\n",
       "         [4, 4, 8, 4]],\n",
       "\n",
       "        [[3, 7, 5, 5],\n",
       "         [0, 1, 5, 9],\n",
       "         [3, 0, 5, 0]]],\n",
       "\n",
       "\n",
       "       [[[1, 2, 4, 2],\n",
       "         [0, 3, 2, 0],\n",
       "         [7, 5, 9, 0]],\n",
       "\n",
       "        [[2, 7, 2, 9],\n",
       "         [2, 3, 3, 2],\n",
       "         [3, 4, 1, 2]],\n",
       "\n",
       "        [[9, 1, 4, 6],\n",
       "         [8, 2, 3, 0],\n",
       "         [0, 6, 0, 6]],\n",
       "\n",
       "        [[3, 3, 8, 8],\n",
       "         [8, 2, 3, 2],\n",
       "         [0, 8, 8, 3]]]])"
      ]
     },
     "execution_count": 38,
     "metadata": {},
     "output_type": "execute_result"
    }
   ],
   "source": [
    "np.random.seed(0)\n",
    "x = np.random.randint(10,size = (3,4,3,4))\n",
    "x"
   ]
  },
  {
   "cell_type": "code",
   "execution_count": 39,
   "metadata": {},
   "outputs": [
    {
     "data": {
      "text/plain": [
       "array([[[14, 13, 13, 14],\n",
       "        [20, 24, 17, 16],\n",
       "        [17,  4,  5,  9],\n",
       "        [19, 19,  2, 12]],\n",
       "\n",
       "       [[11,  6, 10, 21],\n",
       "        [24, 12,  4, 16],\n",
       "        [15, 17, 16, 11],\n",
       "        [ 6,  8, 15, 14]],\n",
       "\n",
       "       [[ 8, 10, 15,  2],\n",
       "        [ 7, 14,  6, 13],\n",
       "        [17,  9,  7, 12],\n",
       "        [11, 13, 19, 13]]])"
      ]
     },
     "execution_count": 39,
     "metadata": {},
     "output_type": "execute_result"
    }
   ],
   "source": [
    "x.sum(axis= 2)"
   ]
  },
  {
   "cell_type": "code",
   "execution_count": 40,
   "metadata": {},
   "outputs": [
    {
     "data": {
      "text/plain": [
       "array([[[11, 24, 19],\n",
       "        [23, 23, 31],\n",
       "        [10, 10, 15],\n",
       "        [11, 22, 19]],\n",
       "\n",
       "       [[ 6, 24, 18],\n",
       "        [17, 27, 12],\n",
       "        [22, 17, 20],\n",
       "        [20, 15,  8]],\n",
       "\n",
       "       [[ 9,  5, 21],\n",
       "        [20, 10, 10],\n",
       "        [20, 13, 12],\n",
       "        [22, 15, 19]]])"
      ]
     },
     "execution_count": 40,
     "metadata": {},
     "output_type": "execute_result"
    }
   ],
   "source": [
    "x.sum(axis=3)"
   ]
  },
  {
   "cell_type": "code",
   "execution_count": 41,
   "metadata": {},
   "outputs": [
    {
     "data": {
      "text/plain": [
       "array([[[[54]],\n",
       "\n",
       "        [[77]],\n",
       "\n",
       "        [[35]],\n",
       "\n",
       "        [[52]]],\n",
       "\n",
       "\n",
       "       [[[48]],\n",
       "\n",
       "        [[56]],\n",
       "\n",
       "        [[59]],\n",
       "\n",
       "        [[43]]],\n",
       "\n",
       "\n",
       "       [[[35]],\n",
       "\n",
       "        [[40]],\n",
       "\n",
       "        [[45]],\n",
       "\n",
       "        [[56]]]])"
      ]
     },
     "execution_count": 41,
     "metadata": {},
     "output_type": "execute_result"
    }
   ],
   "source": [
    "np.apply_over_axes(np.sum, x, [2,3])"
   ]
  },
  {
   "cell_type": "code",
   "execution_count": 42,
   "metadata": {},
   "outputs": [
    {
     "data": {
      "text/plain": [
       "array([[54, 77, 35, 52],\n",
       "       [48, 56, 59, 43],\n",
       "       [35, 40, 45, 56]])"
      ]
     },
     "execution_count": 42,
     "metadata": {},
     "output_type": "execute_result"
    }
   ],
   "source": [
    "x.sum(axis=(2,3))"
   ]
  },
  {
   "cell_type": "markdown",
   "metadata": {},
   "source": [
    "15). Use np.put to randomly place 3 numbers (which can be any value, like 5) in a 2D 10x10 zero array:             6 points"
   ]
  },
  {
   "cell_type": "markdown",
   "metadata": {},
   "source": [
    "Tips: here, randomly placing 3 numbers means you should first randomly generate the indexes of the 3 numbers in the 2D 10x10 array."
   ]
  },
  {
   "cell_type": "code",
   "execution_count": 44,
   "metadata": {
    "scrolled": true
   },
   "outputs": [
    {
     "name": "stdout",
     "output_type": "stream",
     "text": [
      "10\n",
      "The array with three values of 5 in random positions is: \n"
     ]
    },
    {
     "data": {
      "text/plain": [
       "array([[0., 0., 0., 0., 0., 0., 0., 0., 0., 0.],\n",
       "       [0., 0., 0., 0., 0., 5., 0., 0., 0., 0.],\n",
       "       [0., 0., 0., 0., 0., 0., 0., 0., 0., 0.],\n",
       "       [0., 0., 0., 0., 0., 0., 0., 0., 0., 0.],\n",
       "       [0., 0., 0., 0., 0., 0., 0., 0., 0., 0.],\n",
       "       [0., 0., 0., 0., 0., 0., 0., 0., 0., 0.],\n",
       "       [0., 0., 0., 0., 0., 0., 0., 0., 0., 0.],\n",
       "       [0., 0., 5., 0., 0., 0., 0., 0., 0., 0.],\n",
       "       [0., 0., 0., 0., 0., 0., 0., 0., 0., 5.],\n",
       "       [0., 0., 0., 0., 0., 0., 0., 0., 0., 0.]])"
      ]
     },
     "execution_count": 44,
     "metadata": {},
     "output_type": "execute_result"
    }
   ],
   "source": [
    "a = np.zeros(100).reshape(10,10)\n",
    "m = a.shape[0]\n",
    "print(m)\n",
    "np.put(a, np.random.choice(range(m*m), 3, replace = False),5)\n",
    "print(\"The array with three values of 5 in random positions is: \")\n",
    "a"
   ]
  },
  {
   "cell_type": "markdown",
   "metadata": {},
   "source": [
    "# 3. Indexing and Slicing: total 14 points"
   ]
  },
  {
   "cell_type": "markdown",
   "metadata": {},
   "source": [
    "1) Given a 1d array: [ 3, 6, 9, 25, 10, 8]                      4 points"
   ]
  },
  {
   "cell_type": "markdown",
   "metadata": {},
   "source": [
    "(1) To get all elements except the first:\n",
    "\n",
    "(2) To get all elements except the last:\n",
    "\n",
    "(3) To get every other element of the array (operation from the first element):\n",
    "\n",
    "(4) To reverse the array:"
   ]
  },
  {
   "cell_type": "code",
   "execution_count": 45,
   "metadata": {},
   "outputs": [
    {
     "name": "stdout",
     "output_type": "stream",
     "text": [
      "To get all elements except the first:  [ 6  9 25 10  8]\n",
      "To get all elements except the last:  [ 3  6  9 25 10]\n",
      "To get every other element of the array (operation from the first element):  [ 3  9 10]\n",
      "To reverse the array:  [ 8 10 25  9  6  3]\n"
     ]
    }
   ],
   "source": [
    "a = np.array([3,6,9,25,10,8])\n",
    "print(\"To get all elements except the first: \",a[1:])\n",
    "print(\"To get all elements except the last: \",a[:len(a)-1])\n",
    "print(\"To get every other element of the array (operation from the first element): \",a[::2])\n",
    "print(\"To reverse the array: \", np.flip(a))"
   ]
  },
  {
   "cell_type": "markdown",
   "metadata": {},
   "source": [
    "2) Multidimensional Arrays:               4 points"
   ]
  },
  {
   "cell_type": "markdown",
   "metadata": {},
   "source": [
    "(1) create an array with the components as 0-31 and the shape is (8,4).\n",
    "\n",
    "(2) set the 3rd element in the 1st row to 0.\n",
    "\n",
    "(3) print out the second column.\n",
    "\n",
    "(4) Get the 3x3 region from the array:\n",
    "\n",
    "([ 9, 10, 11],\n",
    "\n",
    " [13, 14, 15],\n",
    "\n",
    " [17, 18, 19]])"
   ]
  },
  {
   "cell_type": "code",
   "execution_count": 46,
   "metadata": {},
   "outputs": [
    {
     "name": "stdout",
     "output_type": "stream",
     "text": [
      "An array with the components as 0-31 and the shape is (8,4):\n"
     ]
    },
    {
     "data": {
      "text/plain": [
       "array([[ 0,  1,  2,  3],\n",
       "       [ 4,  5,  6,  7],\n",
       "       [ 8,  9, 10, 11],\n",
       "       [12, 13, 14, 15],\n",
       "       [16, 17, 18, 19],\n",
       "       [20, 21, 22, 23],\n",
       "       [24, 25, 26, 27],\n",
       "       [28, 29, 30, 31]])"
      ]
     },
     "execution_count": 46,
     "metadata": {},
     "output_type": "execute_result"
    }
   ],
   "source": [
    "x = np.arange(32).reshape(8,4)\n",
    "print(\"An array with the components as 0-31 and the shape is (8,4):\")\n",
    "x"
   ]
  },
  {
   "cell_type": "code",
   "execution_count": 47,
   "metadata": {},
   "outputs": [
    {
     "name": "stdout",
     "output_type": "stream",
     "text": [
      "Set the 3rd element in the 1st row to 0\n"
     ]
    },
    {
     "data": {
      "text/plain": [
       "array([[ 0,  1,  0,  3],\n",
       "       [ 4,  5,  6,  7],\n",
       "       [ 8,  9, 10, 11],\n",
       "       [12, 13, 14, 15],\n",
       "       [16, 17, 18, 19],\n",
       "       [20, 21, 22, 23],\n",
       "       [24, 25, 26, 27],\n",
       "       [28, 29, 30, 31]])"
      ]
     },
     "execution_count": 47,
     "metadata": {},
     "output_type": "execute_result"
    }
   ],
   "source": [
    "print(\"Set the 3rd element in the 1st row to 0\")\n",
    "x[0,2] = 0\n",
    "x"
   ]
  },
  {
   "cell_type": "code",
   "execution_count": 48,
   "metadata": {},
   "outputs": [
    {
     "name": "stdout",
     "output_type": "stream",
     "text": [
      "Print out the second column\n"
     ]
    },
    {
     "data": {
      "text/plain": [
       "array([[ 1],\n",
       "       [ 5],\n",
       "       [ 9],\n",
       "       [13],\n",
       "       [17],\n",
       "       [21],\n",
       "       [25],\n",
       "       [29]])"
      ]
     },
     "execution_count": 48,
     "metadata": {},
     "output_type": "execute_result"
    }
   ],
   "source": [
    "print(\"Print out the second column\")\n",
    "x[0:,1:2]"
   ]
  },
  {
   "cell_type": "code",
   "execution_count": 49,
   "metadata": {},
   "outputs": [
    {
     "name": "stdout",
     "output_type": "stream",
     "text": [
      "Get the 3x3 region from the array\n"
     ]
    },
    {
     "data": {
      "text/plain": [
       "array([[ 9, 10, 11],\n",
       "       [13, 14, 15],\n",
       "       [17, 18, 19]])"
      ]
     },
     "execution_count": 49,
     "metadata": {},
     "output_type": "execute_result"
    }
   ],
   "source": [
    "print(\"Get the 3x3 region from the array\")\n",
    "x[2:5,1:]"
   ]
  },
  {
   "cell_type": "markdown",
   "metadata": {},
   "source": [
    "3) Create an 4x4 matrix in which 0 and 1 are staggered, with zeros on the main diagonal. Please use the numpy \"slicing\" method to realize.                4 points"
   ]
  },
  {
   "cell_type": "markdown",
   "metadata": {},
   "source": [
    "[[0. 1. 0. 1.]\n",
    " [1. 0. 1. 0.]\n",
    " [0. 1. 0. 1.]\n",
    " [1. 0. 1. 0.]]"
   ]
  },
  {
   "cell_type": "markdown",
   "metadata": {},
   "source": [
    "[[0. 1. 0. 1.]\n",
    " [1. 0. 1. 0.]\n",
    " [0. 1. 0. 1.]\n",
    " [1. 0. 1. 0.]]"
   ]
  },
  {
   "cell_type": "code",
   "execution_count": 50,
   "metadata": {},
   "outputs": [
    {
     "data": {
      "text/plain": [
       "array([[0., 1., 0., 1.],\n",
       "       [1., 0., 1., 0.],\n",
       "       [0., 1., 0., 1.],\n",
       "       [1., 0., 1., 0.]])"
      ]
     },
     "execution_count": 50,
     "metadata": {},
     "output_type": "execute_result"
    }
   ],
   "source": [
    "x = np.zeros(16).reshape(4,4)\n",
    "x[::2,1::2] = 1\n",
    "x[1::2,::2] = 1\n",
    "x"
   ]
  },
  {
   "cell_type": "markdown",
   "metadata": {},
   "source": [
    "4) Swap the first two rows of the array: aa = np.arange(20).reshape(5,4)                2 points"
   ]
  },
  {
   "cell_type": "code",
   "execution_count": 51,
   "metadata": {},
   "outputs": [
    {
     "data": {
      "text/plain": [
       "array([[ 0,  1,  2,  3],\n",
       "       [ 4,  5,  6,  7],\n",
       "       [ 8,  9, 10, 11],\n",
       "       [12, 13, 14, 15],\n",
       "       [16, 17, 18, 19]])"
      ]
     },
     "execution_count": 51,
     "metadata": {},
     "output_type": "execute_result"
    }
   ],
   "source": [
    "aa = np.arange(20).reshape(5,4)\n",
    "aa"
   ]
  },
  {
   "cell_type": "code",
   "execution_count": 52,
   "metadata": {},
   "outputs": [
    {
     "name": "stdout",
     "output_type": "stream",
     "text": [
      "Swapping the first two rows of the array:\n"
     ]
    },
    {
     "data": {
      "text/plain": [
       "array([[ 4,  5,  6,  7],\n",
       "       [ 0,  1,  2,  3],\n",
       "       [ 8,  9, 10, 11],\n",
       "       [12, 13, 14, 15],\n",
       "       [16, 17, 18, 19]])"
      ]
     },
     "execution_count": 52,
     "metadata": {},
     "output_type": "execute_result"
    }
   ],
   "source": [
    "print(\"Swapping the first two rows of the array:\")\n",
    "aa[[0,1]] = aa[[1,0]]\n",
    "aa"
   ]
  },
  {
   "cell_type": "markdown",
   "metadata": {},
   "source": [
    "# 4. Broadcasting in Practice: total 22 points"
   ]
  },
  {
   "cell_type": "markdown",
   "metadata": {},
   "source": [
    "1) Use rules of broadcasting to give steps how adding two arrays:                          6 points"
   ]
  },
  {
   "cell_type": "markdown",
   "metadata": {},
   "source": [
    "M = np.ones((3, 2))\n",
    "\n",
    "a = np.arange(3)\n",
    "\n",
    "Using Rule 1:\n",
    "\n",
    "Using Rule 2:\n",
    "\n",
    "Giving the result or Using Rule 3:"
   ]
  },
  {
   "cell_type": "code",
   "execution_count": 53,
   "metadata": {},
   "outputs": [
    {
     "name": "stdout",
     "output_type": "stream",
     "text": [
      "[[1 1]\n",
      " [1 1]\n",
      " [1 1]]\n",
      "The shape of M is:  (3, 1, 2)\n",
      "[0 1 2]\n",
      "The shape of a is:  (3, 1)\n"
     ]
    },
    {
     "ename": "ValueError",
     "evalue": "operands could not be broadcast together with shapes (3,2) (3,) ",
     "output_type": "error",
     "traceback": [
      "\u001b[1;31m---------------------------------------------------------------------------\u001b[0m",
      "\u001b[1;31mValueError\u001b[0m                                Traceback (most recent call last)",
      "\u001b[1;32m<ipython-input-53-5227527695ce>\u001b[0m in \u001b[0;36m<module>\u001b[1;34m\u001b[0m\n\u001b[0;32m      5\u001b[0m \u001b[0mprint\u001b[0m\u001b[1;33m(\u001b[0m\u001b[0ma\u001b[0m\u001b[1;33m)\u001b[0m\u001b[1;33m\u001b[0m\u001b[1;33m\u001b[0m\u001b[0m\n\u001b[0;32m      6\u001b[0m \u001b[0mprint\u001b[0m\u001b[1;33m(\u001b[0m\u001b[1;34m\"The shape of a is: \"\u001b[0m\u001b[1;33m,\u001b[0m\u001b[0ma\u001b[0m\u001b[1;33m[\u001b[0m\u001b[1;33m:\u001b[0m\u001b[1;33m,\u001b[0m \u001b[0mnp\u001b[0m\u001b[1;33m.\u001b[0m\u001b[0mnewaxis\u001b[0m\u001b[1;33m]\u001b[0m\u001b[1;33m.\u001b[0m\u001b[0mshape\u001b[0m\u001b[1;33m)\u001b[0m\u001b[1;33m\u001b[0m\u001b[1;33m\u001b[0m\u001b[0m\n\u001b[1;32m----> 7\u001b[1;33m \u001b[0mM\u001b[0m\u001b[1;33m+\u001b[0m\u001b[0ma\u001b[0m \u001b[1;31m# this will throw an error as the dimensions of the two array's 'M' & 'a' are not compatible to do the addition.\u001b[0m\u001b[1;33m\u001b[0m\u001b[1;33m\u001b[0m\u001b[0m\n\u001b[0m",
      "\u001b[1;31mValueError\u001b[0m: operands could not be broadcast together with shapes (3,2) (3,) "
     ]
    }
   ],
   "source": [
    "M = np.ones((3,2), dtype = int)\n",
    "print(M)\n",
    "print(\"The shape of M is: \",M[:, np.newaxis].shape)\n",
    "a = np.arange(3)\n",
    "print(a)\n",
    "print(\"The shape of a is: \",a[:, np.newaxis].shape)\n",
    "M+a # this will throw an error as the dimensions of the two array's 'M' & 'a' are not compatible to do the addition."
   ]
  },
  {
   "cell_type": "markdown",
   "metadata": {},
   "source": [
    "Rules of Broadcasting for two arrays are:\n",
    "\n",
    "Rule 1: If the two arrays differ in their number of dimensions, the shape of the one with fewer dimensions is padded with ones on its leading (left) side.\n",
    "\n",
    "Rule 2: If the shape of the two arrays does not match in any dimension, the array with shape equal to 1 in that dimension is stretched to match the other shape.\n",
    "\n",
    "Rule 3:  If in any dimension the sizes disagree and neither is equal to 1, an error is raised."
   ]
  },
  {
   "cell_type": "code",
   "execution_count": 54,
   "metadata": {},
   "outputs": [
    {
     "name": "stdout",
     "output_type": "stream",
     "text": [
      "[[0]\n",
      " [1]\n",
      " [2]]\n",
      "The shape of a is:  (3, 1, 1)\n"
     ]
    },
    {
     "data": {
      "text/plain": [
       "array([[1, 1],\n",
       "       [2, 2],\n",
       "       [3, 3]])"
      ]
     },
     "execution_count": 54,
     "metadata": {},
     "output_type": "execute_result"
    }
   ],
   "source": [
    "a = a[:, np.newaxis]\n",
    "print(a)\n",
    "print(\"The shape of a is: \",a[:, np.newaxis].shape)\n",
    "# we introduce padding to reshape the axis of the array 'a' with less dimensions\n",
    "M+a "
   ]
  },
  {
   "cell_type": "markdown",
   "metadata": {},
   "source": [
    "2) Given 2 arrays: 4 points\n",
    "\n",
    "a_2d : [[3,3,3],\n",
    "       [4,4,4],\n",
    "       [5,5,5]]\n",
    "\n",
    "b_1d : [1,2,3]\n",
    "\n",
    "Do the subtraction so that the result is:\n",
    "\n",
    "[[2 2 2]\n",
    " [2 2 2]\n",
    " [2 2 2]]"
   ]
  },
  {
   "cell_type": "code",
   "execution_count": 55,
   "metadata": {},
   "outputs": [
    {
     "name": "stdout",
     "output_type": "stream",
     "text": [
      "[[3 3 3]\n",
      " [4 4 4]\n",
      " [5 5 5]]\n",
      "\n",
      "[1 2 3]\n"
     ]
    }
   ],
   "source": [
    "a_2d = np.array([3,3,3,4,4,4,5,5,5]).reshape(3,3)\n",
    "print(a_2d)\n",
    "print(\"\")\n",
    "\n",
    "b_1d = np.arange(1,4)\n",
    "print(b_1d)"
   ]
  },
  {
   "cell_type": "code",
   "execution_count": 56,
   "metadata": {},
   "outputs": [],
   "source": [
    "# changing the shape of b_1d from (1 row, 3 columns) to (3 rows, 1 column)\n",
    "b_1d = b_1d.reshape(3,1)\n",
    "b_1d\n",
    "result = a_2d - b_1d"
   ]
  },
  {
   "cell_type": "code",
   "execution_count": 57,
   "metadata": {},
   "outputs": [
    {
     "data": {
      "text/plain": [
       "array([[2, 2, 2],\n",
       "       [2, 2, 2],\n",
       "       [2, 2, 2]])"
      ]
     },
     "execution_count": 57,
     "metadata": {},
     "output_type": "execute_result"
    }
   ],
   "source": [
    "result"
   ]
  },
  {
   "cell_type": "markdown",
   "metadata": {},
   "source": [
    "3). Write a 6x6 matrix for multiplication table:          8 points\n",
    "\n",
    "- by using numpy broadcasting (4 points)\n",
    "\n",
    "- by using Python nested for-loop (4 points).\n",
    "\n",
    "Desired output:\n",
    "\n",
    "array([[ 1,  2,  3,  4,  5,  6],\n",
    "       [ 2,  4,  6,  8, 10, 12],\n",
    "       [ 3,  6,  9, 12, 15, 18],\n",
    "       [ 4,  8, 12, 16, 20, 24],\n",
    "       [ 5, 10, 15, 20, 25, 30],\n",
    "       [ 6, 12, 18, 24, 30, 36]])"
   ]
  },
  {
   "cell_type": "code",
   "execution_count": 58,
   "metadata": {},
   "outputs": [
    {
     "data": {
      "text/plain": [
       "array([1, 2, 3, 4, 5, 6])"
      ]
     },
     "execution_count": 58,
     "metadata": {},
     "output_type": "execute_result"
    }
   ],
   "source": [
    "a = np.arange(1,7)\n",
    "a"
   ]
  },
  {
   "cell_type": "code",
   "execution_count": 59,
   "metadata": {},
   "outputs": [
    {
     "data": {
      "text/plain": [
       "array([[1],\n",
       "       [2],\n",
       "       [3],\n",
       "       [4],\n",
       "       [5],\n",
       "       [6]])"
      ]
     },
     "execution_count": 59,
     "metadata": {},
     "output_type": "execute_result"
    }
   ],
   "source": [
    "b = np.arange(1,7).reshape(6,1)\n",
    "b\n"
   ]
  },
  {
   "cell_type": "code",
   "execution_count": 60,
   "metadata": {},
   "outputs": [
    {
     "data": {
      "text/plain": [
       "array([[ 1,  2,  3,  4,  5,  6],\n",
       "       [ 2,  4,  6,  8, 10, 12],\n",
       "       [ 3,  6,  9, 12, 15, 18],\n",
       "       [ 4,  8, 12, 16, 20, 24],\n",
       "       [ 5, 10, 15, 20, 25, 30],\n",
       "       [ 6, 12, 18, 24, 30, 36]])"
      ]
     },
     "execution_count": 60,
     "metadata": {},
     "output_type": "execute_result"
    }
   ],
   "source": [
    "c = b*a\n",
    "c"
   ]
  },
  {
   "cell_type": "code",
   "execution_count": 61,
   "metadata": {},
   "outputs": [
    {
     "data": {
      "text/plain": [
       "array([[ 1,  2,  3,  4,  5,  6],\n",
       "       [ 2,  4,  6,  8, 10, 12],\n",
       "       [ 3,  6,  9, 12, 15, 18],\n",
       "       [ 4,  8, 12, 16, 20, 24],\n",
       "       [ 5, 10, 15, 20, 25, 30],\n",
       "       [ 6, 12, 18, 24, 30, 36]])"
      ]
     },
     "execution_count": 61,
     "metadata": {},
     "output_type": "execute_result"
    }
   ],
   "source": [
    "res = []\n",
    "for i in range(len(a)):\n",
    "    temp = []\n",
    "    for j in range(len(b)):\n",
    "        #print(res[i])\n",
    "        temp.append(int(a[i]*b[j]))\n",
    "    res.append(temp)\n",
    "np.asarray(res)\n"
   ]
  },
  {
   "cell_type": "markdown",
   "metadata": {},
   "source": [
    "4) For an arbitrary array of dimension (5,5,3), consider multiplying it by an arbitrary array with dimensions (5,5).                4 points"
   ]
  },
  {
   "cell_type": "code",
   "execution_count": 62,
   "metadata": {},
   "outputs": [
    {
     "name": "stdout",
     "output_type": "stream",
     "text": [
      "[[[ 0  0  0]\n",
      "  [27  6 15]\n",
      "  [ 2  3  5]\n",
      "  [28  8 28]\n",
      "  [ 4 24 20]]\n",
      "\n",
      " [[ 0  0 12]\n",
      "  [ 0  0  0]\n",
      "  [ 0  0  0]\n",
      "  [64 64 56]\n",
      "  [ 0 32 24]]\n",
      "\n",
      " [[48 54 48]\n",
      "  [27 54  9]\n",
      "  [21 12 27]\n",
      "  [ 6  0 24]\n",
      "  [ 4 14 16]]\n",
      "\n",
      " [[ 4  4  1]\n",
      "  [14 12 18]\n",
      "  [ 4  1  5]\n",
      "  [27 21  3]\n",
      "  [12 20 28]]\n",
      "\n",
      " [[ 3  6  6]\n",
      "  [ 7  9  1]\n",
      "  [ 0  0  0]\n",
      "  [21 56 28]\n",
      "  [ 8 32 40]]]\n"
     ]
    }
   ],
   "source": [
    "x = np.random.randint(10,size = (5,5,3))\n",
    "#X = np.random.randint(50,size = (5,10))\n",
    "y = np.random.randint(10, size=(5,5))\n",
    "print(x*y[:,:,None])\n",
    "\n",
    "\n"
   ]
  },
  {
   "cell_type": "code",
   "execution_count": null,
   "metadata": {},
   "outputs": [],
   "source": []
  }
 ],
 "metadata": {
  "kernelspec": {
   "display_name": "Python 3",
   "language": "python",
   "name": "python3"
  },
  "language_info": {
   "codemirror_mode": {
    "name": "ipython",
    "version": 3
   },
   "file_extension": ".py",
   "mimetype": "text/x-python",
   "name": "python",
   "nbconvert_exporter": "python",
   "pygments_lexer": "ipython3",
   "version": "3.7.4"
  }
 },
 "nbformat": 4,
 "nbformat_minor": 2
}
