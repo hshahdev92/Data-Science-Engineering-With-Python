{
 "cells": [
  {
   "cell_type": "code",
   "execution_count": 1,
   "metadata": {},
   "outputs": [],
   "source": [
    "# Python Basic "
   ]
  },
  {
   "cell_type": "code",
   "execution_count": 2,
   "metadata": {},
   "outputs": [],
   "source": [
    "# 1) Convert x=5 into a floating-point number."
   ]
  },
  {
   "cell_type": "code",
   "execution_count": 3,
   "metadata": {},
   "outputs": [
    {
     "name": "stdout",
     "output_type": "stream",
     "text": [
      "5.0\n"
     ]
    }
   ],
   "source": [
    "x = 5\n",
    "print(float(x))"
   ]
  },
  {
   "cell_type": "code",
   "execution_count": 4,
   "metadata": {},
   "outputs": [],
   "source": [
    "# 2) Get the result characters from index 2 to index 4.\n",
    "\n",
    "# txt = \"Hello World\""
   ]
  },
  {
   "cell_type": "code",
   "execution_count": 5,
   "metadata": {},
   "outputs": [
    {
     "name": "stdout",
     "output_type": "stream",
     "text": [
      "llo\n"
     ]
    }
   ],
   "source": [
    "txt = \"Hello World\"\n",
    "print(txt[2:5])"
   ]
  },
  {
   "cell_type": "code",
   "execution_count": 6,
   "metadata": {},
   "outputs": [],
   "source": [
    "# 3) Return the string without any whitespace at the beginning or the end.\n",
    "\n",
    "# txt = \"  Hello World  \""
   ]
  },
  {
   "cell_type": "code",
   "execution_count": 9,
   "metadata": {},
   "outputs": [
    {
     "name": "stdout",
     "output_type": "stream",
     "text": [
      "Hello World\n"
     ]
    }
   ],
   "source": [
    "txt = \"  Hello World  \"\n",
    "print(txt.strip())"
   ]
  },
  {
   "cell_type": "code",
   "execution_count": 10,
   "metadata": {},
   "outputs": [],
   "source": [
    "# 4) Replace the character H with a J.\n",
    "\n",
    "# txt = \"Hello World\""
   ]
  },
  {
   "cell_type": "code",
   "execution_count": 20,
   "metadata": {},
   "outputs": [
    {
     "name": "stdout",
     "output_type": "stream",
     "text": [
      "Jello World\n"
     ]
    }
   ],
   "source": [
    "txt = \"Hello World\"\n",
    "txt = txt.replace(\"H\", \"J\")\n",
    "print(txt)"
   ]
  },
  {
   "cell_type": "code",
   "execution_count": 22,
   "metadata": {},
   "outputs": [],
   "source": [
    "# 5) Insert the correct syntax to add a placeholder for the age parameter.\n",
    "\n",
    "# age = 26\n",
    "\n",
    "# Please print out: My name is John, and I am 26."
   ]
  },
  {
   "cell_type": "code",
   "execution_count": 28,
   "metadata": {},
   "outputs": [
    {
     "name": "stdout",
     "output_type": "stream",
     "text": [
      "My name is John, and I am 26\n"
     ]
    },
    {
     "data": {
      "text/plain": [
       "'My name is John, and I am 26'"
      ]
     },
     "execution_count": 28,
     "metadata": {},
     "output_type": "execute_result"
    }
   ],
   "source": [
    "age = 26\n",
    "print(\"My name is John, and I am {}\".format(age))\n",
    "\n",
    "# alternative method using f-string\n",
    "\n",
    "f\"My name is John, and I am {age}\""
   ]
  },
  {
   "cell_type": "code",
   "execution_count": 29,
   "metadata": {},
   "outputs": [],
   "source": [
    "# 6) Use the insert method to add \"lemon\" as the second item in the fruits.\n",
    "\n",
    "# fruits = [\"apple\", \"banana\", \"cherry\"]"
   ]
  },
  {
   "cell_type": "code",
   "execution_count": 30,
   "metadata": {},
   "outputs": [
    {
     "name": "stdout",
     "output_type": "stream",
     "text": [
      "['apple', 'lemon', 'banana', 'cherry']\n"
     ]
    }
   ],
   "source": [
    "fruits = [\"apple\", \"banana\", \"cherry\"]\n",
    "\n",
    "fruits.insert(1,\"lemon\")\n",
    "print(fruits)"
   ]
  },
  {
   "cell_type": "code",
   "execution_count": 31,
   "metadata": {},
   "outputs": [],
   "source": [
    "# 7) Slicing this tuple to print: ('cherry', 'orange', 'kiwi').\n",
    "\n",
    "# fruits = (\"apple\", \"banana\", \"cherry\", \"orange\", \"kiwi\", \"melon\", \"mango\")"
   ]
  },
  {
   "cell_type": "code",
   "execution_count": 32,
   "metadata": {},
   "outputs": [
    {
     "name": "stdout",
     "output_type": "stream",
     "text": [
      "('cherry', 'orange', 'kiwi')\n"
     ]
    }
   ],
   "source": [
    "fruits = (\"apple\", \"banana\", \"cherry\", \"orange\", \"kiwi\", \"melon\", \"mango\")\n",
    "print(fruits[2:5])"
   ]
  },
  {
   "cell_type": "code",
   "execution_count": 33,
   "metadata": {},
   "outputs": [],
   "source": [
    "# 8) fruits = {\"apple\", \"banana\", \"cherry\", \"orange\"}\n",
    "\n",
    "# add \"kiwi\" to the fruits\n",
    "# Use the correct method to add multiple items (more_fruits) to the fruits set.\n",
    "# more_fruits = [\"orange\", \"mango\", \"grapes\"]\n",
    "\n",
    "# remove \"banana\" from the fruits set."
   ]
  },
  {
   "cell_type": "code",
   "execution_count": 35,
   "metadata": {},
   "outputs": [
    {
     "name": "stdout",
     "output_type": "stream",
     "text": [
      "{'kiwi', 'banana', 'apple', 'orange', 'cherry'}\n",
      "{'kiwi', 'mango', 'banana', 'grapes', 'apple', 'orange', 'cherry'}\n",
      "{'kiwi', 'mango', 'grapes', 'apple', 'orange', 'cherry'}\n"
     ]
    }
   ],
   "source": [
    "fruits = {\"apple\", \"banana\", \"cherry\", \"orange\"}\n",
    "# add \"kiwi\" to the fruits\n",
    "fruits.add(\"kiwi\")\n",
    "print(fruits)\n",
    "\n",
    "more_fruits = [\"orange\", \"mango\", \"grapes\"]\n",
    "# Use the correct method to add multiple items (more_fruits) to the fruits set.\n",
    "fruits.update(more_fruits)\n",
    "print(fruits)\n",
    "\n",
    "# remove \"banana\" from the fruits set.\n",
    "fruits.remove(\"banana\")\n",
    "print(fruits)\n"
   ]
  },
  {
   "cell_type": "code",
   "execution_count": 37,
   "metadata": {},
   "outputs": [],
   "source": [
    "# 9) car = {\"brand\": \"Ford\", \"model\": \"Explore\", \"year\": 2006}\n",
    "\n",
    "# Use the get method to print the value of the \"model\" key of the car dictionary.\n",
    "# Change \"year\" from 2006 to 2020\n",
    "# Use the pop method to remove \"model\" from the car dictionary."
   ]
  },
  {
   "cell_type": "code",
   "execution_count": 50,
   "metadata": {},
   "outputs": [
    {
     "name": "stdout",
     "output_type": "stream",
     "text": [
      "Explore\n",
      "{'brand': 'Ford', 'model': 'Explore', 'year': 2008}\n",
      "{'brand': 'Ford', 'year': 2008}\n"
     ]
    }
   ],
   "source": [
    "car = {\"brand\": \"Ford\", \"model\": \"Explore\", \"year\": 2006}\n",
    "\n",
    "# Use the get method to print the value of the \"model\" key of the car dictionary.\n",
    "print(car.get(\"model\"))\n",
    "\n",
    "# Change \"year\" from 2006 to 2020\n",
    "car[\"year\"] = 2008\n",
    "print(car)\n",
    "\n",
    "# Use the pop method to remove \"model\" from the car dictionary.\n",
    "car.pop(\"model\")\n",
    "print(car)"
   ]
  },
  {
   "cell_type": "code",
   "execution_count": 51,
   "metadata": {},
   "outputs": [],
   "source": [
    "# 10) Use the format method to print: The price is 39.00 dollars\n",
    "\n",
    "# price = 39"
   ]
  },
  {
   "cell_type": "code",
   "execution_count": 53,
   "metadata": {},
   "outputs": [
    {
     "name": "stdout",
     "output_type": "stream",
     "text": [
      "The price is 39.00 dollars\n"
     ]
    }
   ],
   "source": [
    "price = 39\n",
    "print(\"The price is {:.2f} dollars\".format(price))"
   ]
  },
  {
   "cell_type": "code",
   "execution_count": 54,
   "metadata": {},
   "outputs": [],
   "source": [
    "# 11) Print out: I want 3 pieces of item number 127 for 39.00 dollars.\n",
    "\n",
    "# quantity = 3\n",
    "# itemno = 127\n",
    "# price = 39"
   ]
  },
  {
   "cell_type": "code",
   "execution_count": 55,
   "metadata": {},
   "outputs": [
    {
     "name": "stdout",
     "output_type": "stream",
     "text": [
      "I want 3 pieces of item number 127 for 39.00 dollars\n"
     ]
    }
   ],
   "source": [
    "quantity = 3\n",
    "itemno = 127\n",
    "price = 39\n",
    "\n",
    "print(\"I want {} pieces of item number {} for {:.2f} dollars\".format(quantity,itemno,price))"
   ]
  },
  {
   "cell_type": "code",
   "execution_count": 56,
   "metadata": {},
   "outputs": [],
   "source": [
    "# 12) Remove duplicate elements from a List: mylist=[1,3,1,6,9,3,7,8,9,2,8,5]"
   ]
  },
  {
   "cell_type": "code",
   "execution_count": 60,
   "metadata": {},
   "outputs": [
    {
     "name": "stdout",
     "output_type": "stream",
     "text": [
      "[1, 2, 3, 5, 6, 7, 8, 9]\n"
     ]
    }
   ],
   "source": [
    "mylist=[1,3,1,6,9,3,7,8,9,2,8,5]\n",
    "mylist = list(set(mylist))\n",
    "print(mylist)"
   ]
  },
  {
   "cell_type": "code",
   "execution_count": 61,
   "metadata": {},
   "outputs": [],
   "source": [
    "# 13) Perform different set operations:\n",
    "\n",
    "# M = {0, 2, 4, 6, 8, 10}\n",
    "# N = {1, 2, 3, 4, 5, 7, 8, 9}\n",
    "# print(\"Union of M and N is\",     )\n",
    "# print(\"Intersection of M and N is\",       )\n",
    "# print(\"Difference of M and N is\",        )\n",
    "# print(\"Symmetric difference of M and N is\",           )"
   ]
  },
  {
   "cell_type": "code",
   "execution_count": 66,
   "metadata": {},
   "outputs": [
    {
     "name": "stdout",
     "output_type": "stream",
     "text": [
      "Union of M and N is {0, 1, 2, 3, 4, 5, 6, 7, 8, 9, 10}\n",
      "Intersection of M and N is {8, 2, 4}\n",
      "Difference of M and N is {0, 10, 6}\n",
      "Symmetric difference of M and N is {0, 1, 3, 5, 6, 7, 9, 10}\n"
     ]
    }
   ],
   "source": [
    "M = {0, 2, 4, 6, 8, 10}\n",
    "N = {1, 2, 3, 4, 5, 7, 8, 9}\n",
    "print(\"Union of M and N is\",M.union(N))\n",
    "print(\"Intersection of M and N is\",M.intersection(N))\n",
    "print(\"Difference of M and N is\",M.difference(N))\n",
    "print(\"Symmetric difference of M and N is\",M.symmetric_difference(N))"
   ]
  },
  {
   "cell_type": "code",
   "execution_count": 67,
   "metadata": {},
   "outputs": [],
   "source": [
    "# 2. Python Advanced"
   ]
  },
  {
   "cell_type": "code",
   "execution_count": 68,
   "metadata": {},
   "outputs": [],
   "source": [
    "# 1) Iterate over a dictionary using for loop and print out.\n",
    "\n",
    "# dt = {'a': 'time', 'b': 'money', 'c': 'health'} "
   ]
  },
  {
   "cell_type": "code",
   "execution_count": 69,
   "metadata": {},
   "outputs": [
    {
     "name": "stdout",
     "output_type": "stream",
     "text": [
      "a time\n",
      "b money\n",
      "c health\n"
     ]
    }
   ],
   "source": [
    "dt = {'a': 'time', 'b': 'money', 'c': 'health'} \n",
    "\n",
    "for k,v in dt.items():\n",
    "    print (k,v)"
   ]
  },
  {
   "cell_type": "code",
   "execution_count": 73,
   "metadata": {},
   "outputs": [],
   "source": [
    "# 2) Access index of a list using for loop and print out the list with its index.       \n",
    "\n",
    "# mylist = [21, 31, 41, 51, 61, 71, 81]\n",
    "\n",
    "# Result:\n",
    "\n",
    "# 0 21\n",
    "# 1 31\n",
    "# 2 41\n",
    "# 3 51\n",
    "# 4 61\n",
    "# 5 71\n",
    "# 6 81"
   ]
  },
  {
   "cell_type": "code",
   "execution_count": 74,
   "metadata": {},
   "outputs": [
    {
     "name": "stdout",
     "output_type": "stream",
     "text": [
      "0 21\n",
      "1 31\n",
      "2 41\n",
      "3 51\n",
      "4 61\n",
      "5 71\n",
      "6 81\n"
     ]
    }
   ],
   "source": [
    "mylist = [21, 31, 41, 51, 61, 71, 81]\n",
    "for i,v in enumerate(mylist):\n",
    "    print(i,v)"
   ]
  },
  {
   "cell_type": "code",
   "execution_count": 75,
   "metadata": {},
   "outputs": [],
   "source": [
    "# 3) A list: mylist = [[8], [3, 2], [1, 3, 4, 5]]. Use three approaches to make this list flattened as: [8, 3, 2, 1, 3, 4, 5]:\n",
    "# a) list comprehension;\n",
    "# b) nested for loops;\n",
    "# c) lambda."
   ]
  },
  {
   "cell_type": "code",
   "execution_count": 38,
   "metadata": {},
   "outputs": [
    {
     "name": "stdout",
     "output_type": "stream",
     "text": [
      "[8, 3, 2, 1, 3, 4, 5]\n"
     ]
    }
   ],
   "source": [
    "mylist = [[8], [3, 2], [1, 3, 4, 5]]\n",
    "# a) List Comprehension\n",
    "result = [x for y in mylist for x in y]\n",
    "print(result)"
   ]
  },
  {
   "cell_type": "code",
   "execution_count": 37,
   "metadata": {},
   "outputs": [
    {
     "name": "stdout",
     "output_type": "stream",
     "text": [
      "[8, 3, 2, 1, 3, 4, 5]\n"
     ]
    }
   ],
   "source": [
    "# b) nested for loops\n",
    "mylist = [[8], [3, 2], [1, 3, 4, 5]]\n",
    "result = []\n",
    "for y in mylist:\n",
    "    for x in y:\n",
    "        result.append(x)\n",
    "print(result)"
   ]
  },
  {
   "cell_type": "code",
   "execution_count": 65,
   "metadata": {},
   "outputs": [],
   "source": [
    "# c) lambda\n",
    "\n"
   ]
  },
  {
   "cell_type": "code",
   "execution_count": 79,
   "metadata": {},
   "outputs": [],
   "source": [
    "# 4) A list: mylist = [1,2,3,4,5,6,7,8,9,10].\n",
    "# Use list comprehension to split this list into evenly sized chunks."
   ]
  },
  {
   "cell_type": "code",
   "execution_count": 80,
   "metadata": {},
   "outputs": [],
   "source": [
    "mylist = [1,2,3,4,5,6,7,8,9,10]"
   ]
  },
  {
   "cell_type": "code",
   "execution_count": 81,
   "metadata": {},
   "outputs": [],
   "source": [
    "# 5) Given strings as below, count the number of each vowels:       \n",
    "\n",
    "# vowels = 'aeiou'\n",
    "# new_str = 'Hello, how many hours have you spent on your courseware and practice every day?'"
   ]
  },
  {
   "cell_type": "code",
   "execution_count": 125,
   "metadata": {},
   "outputs": [
    {
     "name": "stdout",
     "output_type": "stream",
     "text": [
      "The total number of vowels in the string are 26\n"
     ]
    }
   ],
   "source": [
    "vowels = 'aeiou'\n",
    "new_str = 'Hello, how many hours have you spent on your courseware and practice every day?'\n",
    "\n",
    "count = 0\n",
    "for i in vowels:\n",
    "    for j in new_str:\n",
    "        if i == j:\n",
    "            count = count + 1\n",
    "        else:\n",
    "            pass\n",
    "print(\"The total number of vowels in the string are\",count)\n"
   ]
  },
  {
   "cell_type": "code",
   "execution_count": 83,
   "metadata": {},
   "outputs": [],
   "source": [
    "# 6) Remove all punctuations from a string: \"Hello!!!, how are you? -Hope doing well ~).\"\n",
    "\n",
    "# And print out the string without any punctuation.         "
   ]
  },
  {
   "cell_type": "code",
   "execution_count": 116,
   "metadata": {},
   "outputs": [
    {
     "name": "stdout",
     "output_type": "stream",
     "text": [
      "Hello, how are you -Hope doing well ~)\n"
     ]
    }
   ],
   "source": [
    "str6 = \"Hello!!!, how are you? -Hope doing well ~)\"\n",
    "\n",
    "final_str = \"\".join(i for i in str6 if i not in (\"?\", \".\", \";\", \":\", \"!\"))\n",
    "print(final_str)"
   ]
  },
  {
   "cell_type": "code",
   "execution_count": 96,
   "metadata": {},
   "outputs": [],
   "source": [
    "# 7) Sort alphabetically the words form a string: “Virus surge hits New England despite high vaccination rates”. \n",
    "# And print out the sorted words one by one."
   ]
  },
  {
   "cell_type": "code",
   "execution_count": 4,
   "metadata": {},
   "outputs": [
    {
     "name": "stdout",
     "output_type": "stream",
     "text": [
      "England New Virus despite high hits rates surge vaccination\n"
     ]
    }
   ],
   "source": [
    "str7 = \"Virus surge hits New England despite high vaccination rates\"\n",
    "result = list(str7.split())\n",
    "result.sort()\n",
    "print(\" \".join(result))"
   ]
  },
  {
   "cell_type": "code",
   "execution_count": 99,
   "metadata": {},
   "outputs": [],
   "source": [
    "# 8) Convert Celsius to Fahrenheit and display it.         4 points\n",
    "\n",
    "# The formula is: Celsius * 1.8 = Fahrenheit - 32\n",
    "# The output (format) should be:\n",
    "# 36.5 Celsius degree is equal to 97.7 Fahrenheit degree."
   ]
  },
  {
   "cell_type": "code",
   "execution_count": 10,
   "metadata": {},
   "outputs": [
    {
     "name": "stdout",
     "output_type": "stream",
     "text": [
      "36.5 Celsius degree is equal to 97.7 Fahrenheit degree\n"
     ]
    }
   ],
   "source": [
    "def CeltoFar(C):\n",
    "    F = C * 1.8 + 32\n",
    "    print(\"{} Celsius degree is equal to {} Fahrenheit degree\".format(C,F))\n",
    "\n",
    "CeltoFar(36.5)"
   ]
  },
  {
   "cell_type": "code",
   "execution_count": 100,
   "metadata": {},
   "outputs": [],
   "source": [
    "# 9) If a, b and c are three sides of a triangle. Then, the area of a triangle can be calculated as:     4 points\n",
    "\n",
    "# s = (a+b+c)/2\n",
    "# area = √(s(s-a)*(s-b)*(s-c))\n",
    "# Now, we have a=5, b=6,c=7. Please write a program to calculate the area of this triangle."
   ]
  },
  {
   "cell_type": "code",
   "execution_count": 7,
   "metadata": {},
   "outputs": [
    {
     "name": "stdout",
     "output_type": "stream",
     "text": [
      "The area of the triangle is: 14.696938456699069 Sq.units\n"
     ]
    }
   ],
   "source": [
    "import math\n",
    "a,b,c = 5, 6, 7\n",
    "s = (a+b+c)/2\n",
    "area = math.sqrt(s*((s-a)*(s-b)*(s-c)))\n",
    "print(\"The area of the triangle is: {} Sq.units\".format(area))"
   ]
  },
  {
   "cell_type": "code",
   "execution_count": 101,
   "metadata": {},
   "outputs": [],
   "source": [
    "# 10) Use 2 nested loops to add two 3x3 arrays and print out the results in a matrix style (3 rows and 3 columns) \n",
    "\n",
    "# X = [[9,2,3],\n",
    "   #  [4,5,6],\n",
    "#     [8,2,1]]\n",
    "\n",
    "# Y = [[9,8,2],\n",
    "    # [3,7,3],\n",
    "    #[6,5,1]]"
   ]
  },
  {
   "cell_type": "code",
   "execution_count": 34,
   "metadata": {},
   "outputs": [
    {
     "name": "stdout",
     "output_type": "stream",
     "text": [
      "[18, 10, 5]\n",
      "[7, 12, 9]\n",
      "[14, 7, 2]\n"
     ]
    }
   ],
   "source": [
    "X = [[9,2,3],\n",
    "        [4,5,6],\n",
    "        [8,2,1]]\n",
    "\n",
    "Y = [[9,8,2],\n",
    "        [3,7,3],\n",
    "        [6,5,1]]\n",
    "\n",
    "\n",
    "result = [[0,0,0],\n",
    "          [0,0,0],\n",
    "          [0,0,0]]\n",
    "for i in range(len(X)):\n",
    "    for j in range(len(X[0])):\n",
    "        result[i][j] = X[i][j] + Y[i][j]\n",
    "for a in result:\n",
    "    print(a)"
   ]
  },
  {
   "cell_type": "code",
   "execution_count": 59,
   "metadata": {},
   "outputs": [],
   "source": [
    "# 11) Use a list comprehension to repeat the above question.\n"
   ]
  },
  {
   "cell_type": "code",
   "execution_count": 60,
   "metadata": {
    "scrolled": true
   },
   "outputs": [
    {
     "name": "stdout",
     "output_type": "stream",
     "text": [
      "[[18, 10, 5], [7, 12, 9], [14, 7, 2]]\n"
     ]
    }
   ],
   "source": [
    "X = [[9,2,3],\n",
    "        [4,5,6],\n",
    "        [8,2,1]]\n",
    "\n",
    "Y = [[9,8,2],\n",
    "        [3,7,3],\n",
    "        [6,5,1]]\n",
    "\n",
    "result = [[X[i][j] + Y[i][j]  for j in range(len(X[0]))] for i in range(len(X))]\n",
    "print(result)"
   ]
  },
  {
   "cell_type": "code",
   "execution_count": 108,
   "metadata": {},
   "outputs": [],
   "source": [
    "# 12) Print a multiplication table of 8:        \n",
    "\n",
    "# 8 x 1 = 8,\n",
    "# ……..  \n",
    "# 8 x 10 = 80"
   ]
  },
  {
   "cell_type": "code",
   "execution_count": 134,
   "metadata": {},
   "outputs": [
    {
     "name": "stdout",
     "output_type": "stream",
     "text": [
      "8 x 1 = 8\n",
      "8 x 2 = 16\n",
      "8 x 3 = 24\n",
      "8 x 4 = 32\n",
      "8 x 5 = 40\n",
      "8 x 6 = 48\n",
      "8 x 7 = 56\n",
      "8 x 8 = 64\n",
      "8 x 9 = 72\n",
      "8 x 10 = 80\n"
     ]
    }
   ],
   "source": [
    "n = 8\n",
    "for i in range(1,11):\n",
    "    print(\"{} x {} = {}\".format(n,i,n*i))"
   ]
  },
  {
   "cell_type": "code",
   "execution_count": 109,
   "metadata": {},
   "outputs": [],
   "source": [
    "# 13) Write a program to print out the factorial of 6."
   ]
  },
  {
   "cell_type": "code",
   "execution_count": 131,
   "metadata": {},
   "outputs": [
    {
     "name": "stdout",
     "output_type": "stream",
     "text": [
      "720\n"
     ]
    }
   ],
   "source": [
    "s = 1\n",
    "for i in range(1,7):\n",
    "    s = s*i\n",
    "print(s)"
   ]
  },
  {
   "cell_type": "code",
   "execution_count": 110,
   "metadata": {},
   "outputs": [],
   "source": [
    "# 14) Use while-loop to calculate the sum of natural numbers up to number=20."
   ]
  },
  {
   "cell_type": "code",
   "execution_count": 124,
   "metadata": {},
   "outputs": [
    {
     "name": "stdout",
     "output_type": "stream",
     "text": [
      "Sum of 20 natural numbers = 210\n"
     ]
    }
   ],
   "source": [
    "total = 0\n",
    "num = 20\n",
    "while num > 0:\n",
    "    total = total + num\n",
    "    num = num - 1\n",
    "print(\"Sum of 20 natural numbers =\",total)"
   ]
  },
  {
   "cell_type": "code",
   "execution_count": 111,
   "metadata": {},
   "outputs": [],
   "source": [
    "# 15) Define a function to calculate the GCD (greatest common divisor) of two numbers \n",
    "  #  and print out the result when these two numbers are 64 and 24."
   ]
  },
  {
   "cell_type": "code",
   "execution_count": 27,
   "metadata": {},
   "outputs": [
    {
     "data": {
      "text/plain": [
       "8"
      ]
     },
     "execution_count": 27,
     "metadata": {},
     "output_type": "execute_result"
    }
   ],
   "source": [
    "def hcf(a,b):\n",
    "    if (b==0):\n",
    "        return a\n",
    "    else:\n",
    "        return hcf(b,a%b)\n",
    "\n",
    "hcf(64,24)"
   ]
  },
  {
   "cell_type": "code",
   "execution_count": 112,
   "metadata": {},
   "outputs": [],
   "source": [
    "# 16) Define a function to calculate the LCM (least common multiple) of two numbers  \n",
    "  #  and print out the result when these two numbers are 64 and 24."
   ]
  },
  {
   "cell_type": "code",
   "execution_count": 30,
   "metadata": {},
   "outputs": [
    {
     "data": {
      "text/plain": [
       "192"
      ]
     },
     "execution_count": 30,
     "metadata": {},
     "output_type": "execute_result"
    }
   ],
   "source": [
    "def lcm(x,y):\n",
    "    if x > y:\n",
    "        z = x\n",
    "    else:\n",
    "        z = y\n",
    "    while True:\n",
    "        if ((z%x == 0) and (z%y == 0)):\n",
    "            lcm = z\n",
    "            break\n",
    "        z = z + 1\n",
    "    return lcm\n",
    "lcm(64,24)"
   ]
  },
  {
   "cell_type": "code",
   "execution_count": 113,
   "metadata": {},
   "outputs": [],
   "source": [
    "# 17) Print all prime numbers between 900 and 1000."
   ]
  },
  {
   "cell_type": "code",
   "execution_count": 7,
   "metadata": {},
   "outputs": [
    {
     "name": "stdout",
     "output_type": "stream",
     "text": [
      "[901, 903, 905, 907, 909, 911, 913, 915, 917, 919, 921, 923, 925, 927, 929, 931, 933, 935, 937, 939, 941, 943, 945, 947, 949, 951, 953, 955, 957, 959, 961, 963, 965, 967, 969, 971, 973, 975, 977, 979, 981, 983, 985, 987, 989, 991, 993, 995, 997, 999]\n"
     ]
    }
   ],
   "source": [
    "nums = 900\n",
    "lst = []\n",
    "while nums < 1001:\n",
    "    for i in range(2,nums):\n",
    "        if (nums%i) == 0:\n",
    "            break\n",
    "        else:\n",
    "            \n",
    "            if nums in lst:\n",
    "                pass\n",
    "            else:\n",
    "                lst.append(nums)\n",
    "                continue\n",
    "    nums = nums + 1\n",
    "print(lst)"
   ]
  },
  {
   "cell_type": "code",
   "execution_count": null,
   "metadata": {},
   "outputs": [],
   "source": []
  }
 ],
 "metadata": {
  "kernelspec": {
   "display_name": "Python 3",
   "language": "python",
   "name": "python3"
  },
  "language_info": {
   "codemirror_mode": {
    "name": "ipython",
    "version": 3
   },
   "file_extension": ".py",
   "mimetype": "text/x-python",
   "name": "python",
   "nbconvert_exporter": "python",
   "pygments_lexer": "ipython3",
   "version": "3.7.4"
  }
 },
 "nbformat": 4,
 "nbformat_minor": 2
}
